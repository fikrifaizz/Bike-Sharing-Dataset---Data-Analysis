{
 "cells": [
  {
   "metadata": {},
   "cell_type": "markdown",
   "source": "# **Bike Sharing Analysis**",
   "id": "a8df8f7cd2fefb23"
  },
  {
   "metadata": {},
   "cell_type": "markdown",
   "source": "Dataset : Bike Sharing Dataset ([Source](https://www.kaggle.com/datasets/lakshmi25npathi/bike-sharing-dataset))",
   "id": "18fc4558471fc6d6"
  },
  {
   "metadata": {},
   "cell_type": "markdown",
   "source": "# **1. Library Import**",
   "id": "8cf90cf5b6c24d77"
  },
  {
   "metadata": {},
   "cell_type": "markdown",
   "source": [
    "*Library* [`pandas`](https://pandas.pydata.org) to carry out processing, analysis and manipulation of data.\n",
    "\n",
    "*Library* [`matplotlib`](https://matplotlib.org/) to do visualization.\n",
    "\n",
    "*Library* [`seaborn`](https://seaborn.pydata.org/) to drawing attractive and informative statistical graphics.\n",
    "\n",
    "*Library* [`ZipFile`](https://docs.python.org/3/library/zipfile.html) to extract zip file."
   ],
   "id": "139fb8ac2e1b5599"
  },
  {
   "cell_type": "code",
   "id": "initial_id",
   "metadata": {
    "collapsed": true,
    "ExecuteTime": {
     "end_time": "2025-01-18T04:58:57.772562Z",
     "start_time": "2025-01-18T04:58:57.768325Z"
    }
   },
   "source": [
    "import pandas as pd\n",
    "import matplotlib.pyplot as plt\n",
    "import seaborn as sns\n",
    "from zipfile import ZipFile"
   ],
   "outputs": [],
   "execution_count": 4
  },
  {
   "metadata": {},
   "cell_type": "markdown",
   "source": "# *2. Data Wrangling*",
   "id": "c2f9accb5895add1"
  },
  {
   "metadata": {},
   "cell_type": "markdown",
   "source": "## *2.1 Gathering Data*",
   "id": "46f020afd0eeeeec"
  },
  {
   "metadata": {
    "ExecuteTime": {
     "end_time": "2025-01-18T04:58:59.160556Z",
     "start_time": "2025-01-18T04:58:59.138899Z"
    }
   },
   "cell_type": "code",
   "source": [
    "with ZipFile(\"Bike-sharing-dataset.zip\", 'r') as zipObj:\n",
    "    zipObj.extractall()"
   ],
   "id": "f0c83bf9e46330de",
   "outputs": [],
   "execution_count": 5
  },
  {
   "metadata": {
    "ExecuteTime": {
     "end_time": "2025-01-18T05:01:01.488214Z",
     "start_time": "2025-01-18T05:01:01.360859Z"
    }
   },
   "cell_type": "code",
   "source": [
    "data_day = pd.read_csv('day.csv')\n",
    "data_hour = pd.read_csv('hour.csv')\n",
    "data_day, data_hour"
   ],
   "id": "d1ed11ec9fc85134",
   "outputs": [
    {
     "data": {
      "text/plain": [
       "(     instant      dteday  season  yr  mnth  holiday  weekday  workingday  \\\n",
       " 0          1  2011-01-01       1   0     1        0        6           0   \n",
       " 1          2  2011-01-02       1   0     1        0        0           0   \n",
       " 2          3  2011-01-03       1   0     1        0        1           1   \n",
       " 3          4  2011-01-04       1   0     1        0        2           1   \n",
       " 4          5  2011-01-05       1   0     1        0        3           1   \n",
       " ..       ...         ...     ...  ..   ...      ...      ...         ...   \n",
       " 726      727  2012-12-27       1   1    12        0        4           1   \n",
       " 727      728  2012-12-28       1   1    12        0        5           1   \n",
       " 728      729  2012-12-29       1   1    12        0        6           0   \n",
       " 729      730  2012-12-30       1   1    12        0        0           0   \n",
       " 730      731  2012-12-31       1   1    12        0        1           1   \n",
       " \n",
       "      weathersit      temp     atemp       hum  windspeed  casual  registered  \\\n",
       " 0             2  0.344167  0.363625  0.805833   0.160446     331         654   \n",
       " 1             2  0.363478  0.353739  0.696087   0.248539     131         670   \n",
       " 2             1  0.196364  0.189405  0.437273   0.248309     120        1229   \n",
       " 3             1  0.200000  0.212122  0.590435   0.160296     108        1454   \n",
       " 4             1  0.226957  0.229270  0.436957   0.186900      82        1518   \n",
       " ..          ...       ...       ...       ...        ...     ...         ...   \n",
       " 726           2  0.254167  0.226642  0.652917   0.350133     247        1867   \n",
       " 727           2  0.253333  0.255046  0.590000   0.155471     644        2451   \n",
       " 728           2  0.253333  0.242400  0.752917   0.124383     159        1182   \n",
       " 729           1  0.255833  0.231700  0.483333   0.350754     364        1432   \n",
       " 730           2  0.215833  0.223487  0.577500   0.154846     439        2290   \n",
       " \n",
       "       cnt  \n",
       " 0     985  \n",
       " 1     801  \n",
       " 2    1349  \n",
       " 3    1562  \n",
       " 4    1600  \n",
       " ..    ...  \n",
       " 726  2114  \n",
       " 727  3095  \n",
       " 728  1341  \n",
       " 729  1796  \n",
       " 730  2729  \n",
       " \n",
       " [731 rows x 16 columns],\n",
       "        instant      dteday  season  yr  mnth  hr  holiday  weekday  \\\n",
       " 0            1  2011-01-01       1   0     1   0        0        6   \n",
       " 1            2  2011-01-01       1   0     1   1        0        6   \n",
       " 2            3  2011-01-01       1   0     1   2        0        6   \n",
       " 3            4  2011-01-01       1   0     1   3        0        6   \n",
       " 4            5  2011-01-01       1   0     1   4        0        6   \n",
       " ...        ...         ...     ...  ..   ...  ..      ...      ...   \n",
       " 17374    17375  2012-12-31       1   1    12  19        0        1   \n",
       " 17375    17376  2012-12-31       1   1    12  20        0        1   \n",
       " 17376    17377  2012-12-31       1   1    12  21        0        1   \n",
       " 17377    17378  2012-12-31       1   1    12  22        0        1   \n",
       " 17378    17379  2012-12-31       1   1    12  23        0        1   \n",
       " \n",
       "        workingday  weathersit  temp   atemp   hum  windspeed  casual  \\\n",
       " 0               0           1  0.24  0.2879  0.81     0.0000       3   \n",
       " 1               0           1  0.22  0.2727  0.80     0.0000       8   \n",
       " 2               0           1  0.22  0.2727  0.80     0.0000       5   \n",
       " 3               0           1  0.24  0.2879  0.75     0.0000       3   \n",
       " 4               0           1  0.24  0.2879  0.75     0.0000       0   \n",
       " ...           ...         ...   ...     ...   ...        ...     ...   \n",
       " 17374           1           2  0.26  0.2576  0.60     0.1642      11   \n",
       " 17375           1           2  0.26  0.2576  0.60     0.1642       8   \n",
       " 17376           1           1  0.26  0.2576  0.60     0.1642       7   \n",
       " 17377           1           1  0.26  0.2727  0.56     0.1343      13   \n",
       " 17378           1           1  0.26  0.2727  0.65     0.1343      12   \n",
       " \n",
       "        registered  cnt  \n",
       " 0              13   16  \n",
       " 1              32   40  \n",
       " 2              27   32  \n",
       " 3              10   13  \n",
       " 4               1    1  \n",
       " ...           ...  ...  \n",
       " 17374         108  119  \n",
       " 17375          81   89  \n",
       " 17376          83   90  \n",
       " 17377          48   61  \n",
       " 17378          37   49  \n",
       " \n",
       " [17379 rows x 17 columns])"
      ]
     },
     "execution_count": 6,
     "metadata": {},
     "output_type": "execute_result"
    }
   ],
   "execution_count": 6
  },
  {
   "metadata": {},
   "cell_type": "markdown",
   "source": "There are 2 files resulting from zipfile extraction, namely day.csv and hour.csv. For day.csv data, there are 731 rows and 16 columns. For hour.csv data, there are 17379 rows and 17 columns. Attribute information can be accessed via the [Readme.txt](Readme.txt) file",
   "id": "2f810b47827faa52"
  },
  {
   "metadata": {},
   "cell_type": "markdown",
   "source": "## *2.2 Assessing Data*",
   "id": "393e3bf5518fe182"
  },
  {
   "metadata": {
    "ExecuteTime": {
     "end_time": "2025-01-18T05:08:40.105498Z",
     "start_time": "2025-01-18T05:08:40.097380Z"
    }
   },
   "cell_type": "code",
   "source": "data_day.isnull().sum()",
   "id": "953805d32805282e",
   "outputs": [
    {
     "data": {
      "text/plain": [
       "instant       0\n",
       "dteday        0\n",
       "season        0\n",
       "yr            0\n",
       "mnth          0\n",
       "holiday       0\n",
       "weekday       0\n",
       "workingday    0\n",
       "weathersit    0\n",
       "temp          0\n",
       "atemp         0\n",
       "hum           0\n",
       "windspeed     0\n",
       "casual        0\n",
       "registered    0\n",
       "cnt           0\n",
       "dtype: int64"
      ]
     },
     "execution_count": 9,
     "metadata": {},
     "output_type": "execute_result"
    }
   ],
   "execution_count": 9
  },
  {
   "metadata": {
    "ExecuteTime": {
     "end_time": "2025-01-18T05:08:37.446404Z",
     "start_time": "2025-01-18T05:08:37.436553Z"
    }
   },
   "cell_type": "code",
   "source": "data_hour.isnull().sum()",
   "id": "85396d912e17814f",
   "outputs": [
    {
     "data": {
      "text/plain": [
       "instant       0\n",
       "dteday        0\n",
       "season        0\n",
       "yr            0\n",
       "mnth          0\n",
       "hr            0\n",
       "holiday       0\n",
       "weekday       0\n",
       "workingday    0\n",
       "weathersit    0\n",
       "temp          0\n",
       "atemp         0\n",
       "hum           0\n",
       "windspeed     0\n",
       "casual        0\n",
       "registered    0\n",
       "cnt           0\n",
       "dtype: int64"
      ]
     },
     "execution_count": 8,
     "metadata": {},
     "output_type": "execute_result"
    }
   ],
   "execution_count": 8
  },
  {
   "metadata": {
    "ExecuteTime": {
     "end_time": "2025-01-18T05:09:21.016869Z",
     "start_time": "2025-01-18T05:09:20.987006Z"
    }
   },
   "cell_type": "code",
   "source": "data_day.duplicated().sum()",
   "id": "37b76b2da3b1f435",
   "outputs": [
    {
     "data": {
      "text/plain": [
       "np.int64(0)"
      ]
     },
     "execution_count": 10,
     "metadata": {},
     "output_type": "execute_result"
    }
   ],
   "execution_count": 10
  },
  {
   "metadata": {
    "ExecuteTime": {
     "end_time": "2025-01-18T05:10:12.394544Z",
     "start_time": "2025-01-18T05:10:12.376680Z"
    }
   },
   "cell_type": "code",
   "source": "data_hour.duplicated().sum()",
   "id": "c82c36c5e93dbecf",
   "outputs": [
    {
     "data": {
      "text/plain": [
       "np.int64(0)"
      ]
     },
     "execution_count": 11,
     "metadata": {},
     "output_type": "execute_result"
    }
   ],
   "execution_count": 11
  },
  {
   "metadata": {},
   "cell_type": "code",
   "outputs": [],
   "execution_count": null,
   "source": "",
   "id": "6c486b5ee117994f"
  }
 ],
 "metadata": {
  "kernelspec": {
   "display_name": "Python 3",
   "language": "python",
   "name": "python3"
  },
  "language_info": {
   "codemirror_mode": {
    "name": "ipython",
    "version": 2
   },
   "file_extension": ".py",
   "mimetype": "text/x-python",
   "name": "python",
   "nbconvert_exporter": "python",
   "pygments_lexer": "ipython2",
   "version": "2.7.6"
  }
 },
 "nbformat": 4,
 "nbformat_minor": 5
}
