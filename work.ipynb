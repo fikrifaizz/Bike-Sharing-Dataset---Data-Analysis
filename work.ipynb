{
 "cells": [
  {
   "metadata": {},
   "cell_type": "markdown",
   "source": "# **Bike Sharing Analysis**",
   "id": "a8df8f7cd2fefb23"
  },
  {
   "metadata": {},
   "cell_type": "markdown",
   "source": "Dataset : Bike Sharing Dataset ([Source](https://www.kaggle.com/datasets/lakshmi25npathi/bike-sharing-dataset))",
   "id": "18fc4558471fc6d6"
  },
  {
   "metadata": {},
   "cell_type": "markdown",
   "source": "# **1. Library Import**",
   "id": "8cf90cf5b6c24d77"
  },
  {
   "metadata": {},
   "cell_type": "markdown",
   "source": [
    "*Library* [`pandas`](https://pandas.pydata.org) to carry out processing, analysis and manipulation of data.\n",
    "\n",
    "*Library* [`matplotlib`](https://matplotlib.org/) to do visualization.\n",
    "\n",
    "*Library* [`seaborn`](https://seaborn.pydata.org/) to drawing attractive and informative statistical graphics.\n",
    "\n",
    "*Library* [`ZipFile`](https://docs.python.org/3/library/zipfile.html) to extract zip file."
   ],
   "id": "139fb8ac2e1b5599"
  },
  {
   "cell_type": "code",
   "id": "initial_id",
   "metadata": {
    "collapsed": true,
    "ExecuteTime": {
     "end_time": "2025-01-18T05:12:17.993899Z",
     "start_time": "2025-01-18T05:12:17.989533Z"
    }
   },
   "source": [
    "import pandas as pd\n",
    "import matplotlib.pyplot as plt\n",
    "import seaborn as sns\n",
    "from zipfile import ZipFile\n",
    "import numpy as np"
   ],
   "outputs": [],
   "execution_count": 14
  },
  {
   "metadata": {},
   "cell_type": "markdown",
   "source": "# *2. Data Wrangling*",
   "id": "c2f9accb5895add1"
  },
  {
   "metadata": {},
   "cell_type": "markdown",
   "source": "## *2.1 Gathering Data*",
   "id": "46f020afd0eeeeec"
  },
  {
   "metadata": {
    "ExecuteTime": {
     "end_time": "2025-01-18T04:58:59.160556Z",
     "start_time": "2025-01-18T04:58:59.138899Z"
    }
   },
   "cell_type": "code",
   "source": [
    "with ZipFile(\"Bike-sharing-dataset.zip\", 'r') as zipObj:\n",
    "    zipObj.extractall()"
   ],
   "id": "f0c83bf9e46330de",
   "outputs": [],
   "execution_count": 5
  },
  {
   "metadata": {
    "ExecuteTime": {
     "end_time": "2025-01-18T05:01:01.488214Z",
     "start_time": "2025-01-18T05:01:01.360859Z"
    }
   },
   "cell_type": "code",
   "source": [
    "data_day = pd.read_csv('day.csv')\n",
    "data_hour = pd.read_csv('hour.csv')\n",
    "data_day, data_hour"
   ],
   "id": "d1ed11ec9fc85134",
   "outputs": [
    {
     "data": {
      "text/plain": [
       "(     instant      dteday  season  yr  mnth  holiday  weekday  workingday  \\\n",
       " 0          1  2011-01-01       1   0     1        0        6           0   \n",
       " 1          2  2011-01-02       1   0     1        0        0           0   \n",
       " 2          3  2011-01-03       1   0     1        0        1           1   \n",
       " 3          4  2011-01-04       1   0     1        0        2           1   \n",
       " 4          5  2011-01-05       1   0     1        0        3           1   \n",
       " ..       ...         ...     ...  ..   ...      ...      ...         ...   \n",
       " 726      727  2012-12-27       1   1    12        0        4           1   \n",
       " 727      728  2012-12-28       1   1    12        0        5           1   \n",
       " 728      729  2012-12-29       1   1    12        0        6           0   \n",
       " 729      730  2012-12-30       1   1    12        0        0           0   \n",
       " 730      731  2012-12-31       1   1    12        0        1           1   \n",
       " \n",
       "      weathersit      temp     atemp       hum  windspeed  casual  registered  \\\n",
       " 0             2  0.344167  0.363625  0.805833   0.160446     331         654   \n",
       " 1             2  0.363478  0.353739  0.696087   0.248539     131         670   \n",
       " 2             1  0.196364  0.189405  0.437273   0.248309     120        1229   \n",
       " 3             1  0.200000  0.212122  0.590435   0.160296     108        1454   \n",
       " 4             1  0.226957  0.229270  0.436957   0.186900      82        1518   \n",
       " ..          ...       ...       ...       ...        ...     ...         ...   \n",
       " 726           2  0.254167  0.226642  0.652917   0.350133     247        1867   \n",
       " 727           2  0.253333  0.255046  0.590000   0.155471     644        2451   \n",
       " 728           2  0.253333  0.242400  0.752917   0.124383     159        1182   \n",
       " 729           1  0.255833  0.231700  0.483333   0.350754     364        1432   \n",
       " 730           2  0.215833  0.223487  0.577500   0.154846     439        2290   \n",
       " \n",
       "       cnt  \n",
       " 0     985  \n",
       " 1     801  \n",
       " 2    1349  \n",
       " 3    1562  \n",
       " 4    1600  \n",
       " ..    ...  \n",
       " 726  2114  \n",
       " 727  3095  \n",
       " 728  1341  \n",
       " 729  1796  \n",
       " 730  2729  \n",
       " \n",
       " [731 rows x 16 columns],\n",
       "        instant      dteday  season  yr  mnth  hr  holiday  weekday  \\\n",
       " 0            1  2011-01-01       1   0     1   0        0        6   \n",
       " 1            2  2011-01-01       1   0     1   1        0        6   \n",
       " 2            3  2011-01-01       1   0     1   2        0        6   \n",
       " 3            4  2011-01-01       1   0     1   3        0        6   \n",
       " 4            5  2011-01-01       1   0     1   4        0        6   \n",
       " ...        ...         ...     ...  ..   ...  ..      ...      ...   \n",
       " 17374    17375  2012-12-31       1   1    12  19        0        1   \n",
       " 17375    17376  2012-12-31       1   1    12  20        0        1   \n",
       " 17376    17377  2012-12-31       1   1    12  21        0        1   \n",
       " 17377    17378  2012-12-31       1   1    12  22        0        1   \n",
       " 17378    17379  2012-12-31       1   1    12  23        0        1   \n",
       " \n",
       "        workingday  weathersit  temp   atemp   hum  windspeed  casual  \\\n",
       " 0               0           1  0.24  0.2879  0.81     0.0000       3   \n",
       " 1               0           1  0.22  0.2727  0.80     0.0000       8   \n",
       " 2               0           1  0.22  0.2727  0.80     0.0000       5   \n",
       " 3               0           1  0.24  0.2879  0.75     0.0000       3   \n",
       " 4               0           1  0.24  0.2879  0.75     0.0000       0   \n",
       " ...           ...         ...   ...     ...   ...        ...     ...   \n",
       " 17374           1           2  0.26  0.2576  0.60     0.1642      11   \n",
       " 17375           1           2  0.26  0.2576  0.60     0.1642       8   \n",
       " 17376           1           1  0.26  0.2576  0.60     0.1642       7   \n",
       " 17377           1           1  0.26  0.2727  0.56     0.1343      13   \n",
       " 17378           1           1  0.26  0.2727  0.65     0.1343      12   \n",
       " \n",
       "        registered  cnt  \n",
       " 0              13   16  \n",
       " 1              32   40  \n",
       " 2              27   32  \n",
       " 3              10   13  \n",
       " 4               1    1  \n",
       " ...           ...  ...  \n",
       " 17374         108  119  \n",
       " 17375          81   89  \n",
       " 17376          83   90  \n",
       " 17377          48   61  \n",
       " 17378          37   49  \n",
       " \n",
       " [17379 rows x 17 columns])"
      ]
     },
     "execution_count": 6,
     "metadata": {},
     "output_type": "execute_result"
    }
   ],
   "execution_count": 6
  },
  {
   "metadata": {},
   "cell_type": "markdown",
   "source": "There are 2 files resulting from zipfile extraction, namely day.csv and hour.csv. For day.csv data, there are 731 rows and 16 columns. For hour.csv data, there are 17379 rows and 17 columns. Attribute information can be accessed via the [Readme.txt](Readme.txt) file",
   "id": "2f810b47827faa52"
  },
  {
   "metadata": {},
   "cell_type": "markdown",
   "source": "## *2.2 Assessing Data*",
   "id": "393e3bf5518fe182"
  },
  {
   "metadata": {
    "ExecuteTime": {
     "end_time": "2025-01-18T05:08:40.105498Z",
     "start_time": "2025-01-18T05:08:40.097380Z"
    }
   },
   "cell_type": "code",
   "source": "data_day.isnull().sum()",
   "id": "953805d32805282e",
   "outputs": [
    {
     "data": {
      "text/plain": [
       "instant       0\n",
       "dteday        0\n",
       "season        0\n",
       "yr            0\n",
       "mnth          0\n",
       "holiday       0\n",
       "weekday       0\n",
       "workingday    0\n",
       "weathersit    0\n",
       "temp          0\n",
       "atemp         0\n",
       "hum           0\n",
       "windspeed     0\n",
       "casual        0\n",
       "registered    0\n",
       "cnt           0\n",
       "dtype: int64"
      ]
     },
     "execution_count": 9,
     "metadata": {},
     "output_type": "execute_result"
    }
   ],
   "execution_count": 9
  },
  {
   "metadata": {
    "ExecuteTime": {
     "end_time": "2025-01-18T05:08:37.446404Z",
     "start_time": "2025-01-18T05:08:37.436553Z"
    }
   },
   "cell_type": "code",
   "source": "data_hour.isnull().sum()",
   "id": "85396d912e17814f",
   "outputs": [
    {
     "data": {
      "text/plain": [
       "instant       0\n",
       "dteday        0\n",
       "season        0\n",
       "yr            0\n",
       "mnth          0\n",
       "hr            0\n",
       "holiday       0\n",
       "weekday       0\n",
       "workingday    0\n",
       "weathersit    0\n",
       "temp          0\n",
       "atemp         0\n",
       "hum           0\n",
       "windspeed     0\n",
       "casual        0\n",
       "registered    0\n",
       "cnt           0\n",
       "dtype: int64"
      ]
     },
     "execution_count": 8,
     "metadata": {},
     "output_type": "execute_result"
    }
   ],
   "execution_count": 8
  },
  {
   "metadata": {
    "ExecuteTime": {
     "end_time": "2025-01-18T05:11:51.606384Z",
     "start_time": "2025-01-18T05:11:51.598209Z"
    }
   },
   "cell_type": "code",
   "source": "print(data_day.duplicated().sum())",
   "id": "37b76b2da3b1f435",
   "outputs": [
    {
     "name": "stdout",
     "output_type": "stream",
     "text": [
      "0\n"
     ]
    }
   ],
   "execution_count": 12
  },
  {
   "metadata": {
    "ExecuteTime": {
     "end_time": "2025-01-18T05:12:00.850466Z",
     "start_time": "2025-01-18T05:12:00.835134Z"
    }
   },
   "cell_type": "code",
   "source": "print(data_hour.duplicated().sum())",
   "id": "c82c36c5e93dbecf",
   "outputs": [
    {
     "name": "stdout",
     "output_type": "stream",
     "text": [
      "0\n"
     ]
    }
   ],
   "execution_count": 13
  },
  {
   "metadata": {
    "ExecuteTime": {
     "end_time": "2025-01-18T05:24:37.594826Z",
     "start_time": "2025-01-18T05:24:37.580379Z"
    }
   },
   "cell_type": "code",
   "source": [
    "data_hour.info()\n",
    "np.dtypes"
   ],
   "id": "19e0dc2406be7cba",
   "outputs": [
    {
     "name": "stdout",
     "output_type": "stream",
     "text": [
      "<class 'pandas.core.frame.DataFrame'>\n",
      "RangeIndex: 17379 entries, 0 to 17378\n",
      "Data columns (total 17 columns):\n",
      " #   Column      Non-Null Count  Dtype  \n",
      "---  ------      --------------  -----  \n",
      " 0   instant     17379 non-null  int64  \n",
      " 1   dteday      17379 non-null  object \n",
      " 2   season      17379 non-null  int64  \n",
      " 3   yr          17379 non-null  int64  \n",
      " 4   mnth        17379 non-null  int64  \n",
      " 5   hr          17379 non-null  int64  \n",
      " 6   holiday     17379 non-null  int64  \n",
      " 7   weekday     17379 non-null  int64  \n",
      " 8   workingday  17379 non-null  int64  \n",
      " 9   weathersit  17379 non-null  int64  \n",
      " 10  temp        17379 non-null  float64\n",
      " 11  atemp       17379 non-null  float64\n",
      " 12  hum         17379 non-null  float64\n",
      " 13  windspeed   17379 non-null  float64\n",
      " 14  casual      17379 non-null  int64  \n",
      " 15  registered  17379 non-null  int64  \n",
      " 16  cnt         17379 non-null  int64  \n",
      "dtypes: float64(4), int64(12), object(1)\n",
      "memory usage: 2.3+ MB\n"
     ]
    },
    {
     "data": {
      "text/plain": [
       "<module 'numpy.dtypes' from 'C:\\\\Users\\\\fikri\\\\PycharmProjects\\\\SkripsiHHO\\\\.venv\\\\Lib\\\\site-packages\\\\numpy\\\\dtypes.py'>"
      ]
     },
     "execution_count": 22,
     "metadata": {},
     "output_type": "execute_result"
    }
   ],
   "execution_count": 22
  },
  {
   "metadata": {
    "ExecuteTime": {
     "end_time": "2025-01-18T05:53:07.874038Z",
     "start_time": "2025-01-18T05:53:07.852596Z"
    }
   },
   "cell_type": "code",
   "source": [
    "def outlier_check(data):\n",
    "    outlier = {}\n",
    "    for column in data.select_dtypes(include=np.number).columns:\n",
    "        q25 , q75 = np.percentile(data[column], 25), np.percentile(data[column], 75)\n",
    "        iqr = q75 - q25\n",
    "        lower_outlier = q25 - 1.5 * iqr\n",
    "        high_outlier = q75 + 1.5 * iqr\n",
    "        outliers = data[(data[column] < lower_outlier) | (data[column] > high_outlier)][column]\n",
    "        outlier[column] = len(outliers)\n",
    "    total = sum(outlier.values())\n",
    "    return outlier, total\n",
    "\n",
    "day_outlier, total_day = outlier_check(data_day)\n",
    "hour_outlier, total_hour = outlier_check(data_hour)\n",
    "print(f\"Total outlier in day data: {total_day}\")\n",
    "print(f\"Total outlier in hour data: {total_hour}\")\n",
    "day_outlier, hour_outlier"
   ],
   "id": "6c486b5ee117994f",
   "outputs": [
    {
     "name": "stdout",
     "output_type": "stream",
     "text": [
      "Total outlier in day data: 80\n",
      "Total outlier in hour data: 3244\n"
     ]
    },
    {
     "data": {
      "text/plain": [
       "({'instant': 0,\n",
       "  'season': 0,\n",
       "  'yr': 0,\n",
       "  'mnth': 0,\n",
       "  'holiday': 21,\n",
       "  'weekday': 0,\n",
       "  'workingday': 0,\n",
       "  'weathersit': 0,\n",
       "  'temp': 0,\n",
       "  'atemp': 0,\n",
       "  'hum': 2,\n",
       "  'windspeed': 13,\n",
       "  'casual': 44,\n",
       "  'registered': 0,\n",
       "  'cnt': 0},\n",
       " {'instant': 0,\n",
       "  'season': 0,\n",
       "  'yr': 0,\n",
       "  'mnth': 0,\n",
       "  'hr': 0,\n",
       "  'holiday': 500,\n",
       "  'weekday': 0,\n",
       "  'workingday': 0,\n",
       "  'weathersit': 3,\n",
       "  'temp': 0,\n",
       "  'atemp': 0,\n",
       "  'hum': 22,\n",
       "  'windspeed': 342,\n",
       "  'casual': 1192,\n",
       "  'registered': 680,\n",
       "  'cnt': 505})"
      ]
     },
     "execution_count": 27,
     "metadata": {},
     "output_type": "execute_result"
    }
   ],
   "execution_count": 27
  },
  {
   "metadata": {},
   "cell_type": "markdown",
   "source": [
    "1. day.csv and hour.csv Data don't have any null value.\n",
    "2. day.csv and hour.csv Data don't have any duplicate value.\n",
    "3. day.csv data has 80 outliers and hour.csv data has 3244 outliers."
   ],
   "id": "d5dff80a89f486d9"
  },
  {
   "metadata": {},
   "cell_type": "markdown",
   "source": "## *2.3 Cleaning Data*",
   "id": "e2a70b04ce92ad6"
  },
  {
   "metadata": {
    "ExecuteTime": {
     "end_time": "2025-01-18T06:47:21.716597Z",
     "start_time": "2025-01-18T06:47:21.694619Z"
    }
   },
   "cell_type": "code",
   "source": [
    "def remove_outliers(data):\n",
    "    row_remove = set()\n",
    "    for column in data.select_dtypes(include=np.number).columns:\n",
    "        q25, q75 = np.percentile(data[column], 25), np.percentile(data[column], 75)\n",
    "        iqr = q75 - q25\n",
    "        lower_outlier = q25 - 1.5 * iqr\n",
    "        high_outlier = q75 + 1.5 * iqr\n",
    "        outlier = data[(data[column] < lower_outlier) | (data[column] > high_outlier)].index\n",
    "        row_remove.update(outlier)\n",
    "    cleaned_data = data.drop(index=row_remove)\n",
    "    return cleaned_data\n",
    "\n",
    "def print_outlier_summary(df, cleaned_df, dataset_name):\n",
    "    rows_before = len(df)\n",
    "    rows_after = len(cleaned_df)\n",
    "    rows_removed = rows_before - rows_after\n",
    "    print(f\"Dataset: {dataset_name}\")\n",
    "    print(f\"Jumlah baris sebelum pembersihan: {rows_before}\")\n",
    "    print(f\"Jumlah baris dihapus (mengandung outlier): {rows_removed}\")\n",
    "    print(f\"Jumlah baris setelah pembersihan: {rows_after}\")\n",
    "    print(\"-\" * 50)\n",
    "\n",
    "data_day_cleaned = remove_outliers(data_day)\n",
    "data_hour_cleaned = remove_outliers(data_hour)\n",
    "print_outlier_summary(data_day, data_day_cleaned, \"day.csv\")\n",
    "print_outlier_summary(data_hour, data_hour_cleaned, \"hour.csv\")"
   ],
   "id": "8b6537a7b195c1f2",
   "outputs": [
    {
     "name": "stdout",
     "output_type": "stream",
     "text": [
      "Dataset: day.csv\n",
      "Jumlah baris sebelum pembersihan: 731\n",
      "Jumlah baris dihapus (mengandung outlier): 76\n",
      "Jumlah baris setelah pembersihan: 655\n",
      "--------------------------------------------------\n",
      "Dataset: hour.csv\n",
      "Jumlah baris sebelum pembersihan: 17379\n",
      "Jumlah baris dihapus (mengandung outlier): 2580\n",
      "Jumlah baris setelah pembersihan: 14799\n",
      "--------------------------------------------------\n"
     ]
    }
   ],
   "execution_count": 29
  }
 ],
 "metadata": {
  "kernelspec": {
   "display_name": "Python 3",
   "language": "python",
   "name": "python3"
  },
  "language_info": {
   "codemirror_mode": {
    "name": "ipython",
    "version": 2
   },
   "file_extension": ".py",
   "mimetype": "text/x-python",
   "name": "python",
   "nbconvert_exporter": "python",
   "pygments_lexer": "ipython2",
   "version": "2.7.6"
  }
 },
 "nbformat": 4,
 "nbformat_minor": 5
}
